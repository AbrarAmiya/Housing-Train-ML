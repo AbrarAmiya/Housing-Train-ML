{
  "nbformat": 4,
  "nbformat_minor": 0,
  "metadata": {
    "colab": {
      "provenance": [],
      "include_colab_link": true
    },
    "kernelspec": {
      "name": "python3",
      "display_name": "Python 3"
    },
    "language_info": {
      "name": "python"
    }
  },
  "cells": [
    {
      "cell_type": "markdown",
      "metadata": {
        "id": "view-in-github",
        "colab_type": "text"
      },
      "source": [
        "<a href=\"https://colab.research.google.com/github/AbrarAmiya/Multiple-Linear-Regression-Models/blob/main/Multiple_Linear_Regression_Predicting_Bedrooms.ipynb\" target=\"_parent\"><img src=\"https://colab.research.google.com/assets/colab-badge.svg\" alt=\"Open In Colab\"/></a>"
      ]
    },
    {
      "cell_type": "code",
      "metadata": {
        "colab": {
          "base_uri": "https://localhost:8080/",
          "height": 422
        },
        "id": "6E5InCAraOlu",
        "outputId": "b4b36f4c-c657-4a18-aec5-0a0b01dccedb"
      },
      "source": [
        "import numpy as np\n",
        "import pandas as pd\n",
        "\n",
        "df = pd.read_csv('sample_data/california_housing_train.csv')\n",
        "df"
      ],
      "execution_count": null,
      "outputs": [
        {
          "output_type": "execute_result",
          "data": {
            "text/html": [
              "<div>\n",
              "<style scoped>\n",
              "    .dataframe tbody tr th:only-of-type {\n",
              "        vertical-align: middle;\n",
              "    }\n",
              "\n",
              "    .dataframe tbody tr th {\n",
              "        vertical-align: top;\n",
              "    }\n",
              "\n",
              "    .dataframe thead th {\n",
              "        text-align: right;\n",
              "    }\n",
              "</style>\n",
              "<table border=\"1\" class=\"dataframe\">\n",
              "  <thead>\n",
              "    <tr style=\"text-align: right;\">\n",
              "      <th></th>\n",
              "      <th>longitude</th>\n",
              "      <th>latitude</th>\n",
              "      <th>housing_median_age</th>\n",
              "      <th>total_rooms</th>\n",
              "      <th>total_bedrooms</th>\n",
              "      <th>population</th>\n",
              "      <th>households</th>\n",
              "      <th>median_income</th>\n",
              "      <th>median_house_value</th>\n",
              "    </tr>\n",
              "  </thead>\n",
              "  <tbody>\n",
              "    <tr>\n",
              "      <th>0</th>\n",
              "      <td>-114.31</td>\n",
              "      <td>34.19</td>\n",
              "      <td>15.0</td>\n",
              "      <td>5612.0</td>\n",
              "      <td>1283.0</td>\n",
              "      <td>1015.0</td>\n",
              "      <td>472.0</td>\n",
              "      <td>1.4936</td>\n",
              "      <td>66900.0</td>\n",
              "    </tr>\n",
              "    <tr>\n",
              "      <th>1</th>\n",
              "      <td>-114.47</td>\n",
              "      <td>34.40</td>\n",
              "      <td>19.0</td>\n",
              "      <td>7650.0</td>\n",
              "      <td>1901.0</td>\n",
              "      <td>1129.0</td>\n",
              "      <td>463.0</td>\n",
              "      <td>1.8200</td>\n",
              "      <td>80100.0</td>\n",
              "    </tr>\n",
              "    <tr>\n",
              "      <th>2</th>\n",
              "      <td>-114.56</td>\n",
              "      <td>33.69</td>\n",
              "      <td>17.0</td>\n",
              "      <td>720.0</td>\n",
              "      <td>174.0</td>\n",
              "      <td>333.0</td>\n",
              "      <td>117.0</td>\n",
              "      <td>1.6509</td>\n",
              "      <td>85700.0</td>\n",
              "    </tr>\n",
              "    <tr>\n",
              "      <th>3</th>\n",
              "      <td>-114.57</td>\n",
              "      <td>33.64</td>\n",
              "      <td>14.0</td>\n",
              "      <td>1501.0</td>\n",
              "      <td>337.0</td>\n",
              "      <td>515.0</td>\n",
              "      <td>226.0</td>\n",
              "      <td>3.1917</td>\n",
              "      <td>73400.0</td>\n",
              "    </tr>\n",
              "    <tr>\n",
              "      <th>4</th>\n",
              "      <td>-114.57</td>\n",
              "      <td>33.57</td>\n",
              "      <td>20.0</td>\n",
              "      <td>1454.0</td>\n",
              "      <td>326.0</td>\n",
              "      <td>624.0</td>\n",
              "      <td>262.0</td>\n",
              "      <td>1.9250</td>\n",
              "      <td>65500.0</td>\n",
              "    </tr>\n",
              "    <tr>\n",
              "      <th>...</th>\n",
              "      <td>...</td>\n",
              "      <td>...</td>\n",
              "      <td>...</td>\n",
              "      <td>...</td>\n",
              "      <td>...</td>\n",
              "      <td>...</td>\n",
              "      <td>...</td>\n",
              "      <td>...</td>\n",
              "      <td>...</td>\n",
              "    </tr>\n",
              "    <tr>\n",
              "      <th>16995</th>\n",
              "      <td>-124.26</td>\n",
              "      <td>40.58</td>\n",
              "      <td>52.0</td>\n",
              "      <td>2217.0</td>\n",
              "      <td>394.0</td>\n",
              "      <td>907.0</td>\n",
              "      <td>369.0</td>\n",
              "      <td>2.3571</td>\n",
              "      <td>111400.0</td>\n",
              "    </tr>\n",
              "    <tr>\n",
              "      <th>16996</th>\n",
              "      <td>-124.27</td>\n",
              "      <td>40.69</td>\n",
              "      <td>36.0</td>\n",
              "      <td>2349.0</td>\n",
              "      <td>528.0</td>\n",
              "      <td>1194.0</td>\n",
              "      <td>465.0</td>\n",
              "      <td>2.5179</td>\n",
              "      <td>79000.0</td>\n",
              "    </tr>\n",
              "    <tr>\n",
              "      <th>16997</th>\n",
              "      <td>-124.30</td>\n",
              "      <td>41.84</td>\n",
              "      <td>17.0</td>\n",
              "      <td>2677.0</td>\n",
              "      <td>531.0</td>\n",
              "      <td>1244.0</td>\n",
              "      <td>456.0</td>\n",
              "      <td>3.0313</td>\n",
              "      <td>103600.0</td>\n",
              "    </tr>\n",
              "    <tr>\n",
              "      <th>16998</th>\n",
              "      <td>-124.30</td>\n",
              "      <td>41.80</td>\n",
              "      <td>19.0</td>\n",
              "      <td>2672.0</td>\n",
              "      <td>552.0</td>\n",
              "      <td>1298.0</td>\n",
              "      <td>478.0</td>\n",
              "      <td>1.9797</td>\n",
              "      <td>85800.0</td>\n",
              "    </tr>\n",
              "    <tr>\n",
              "      <th>16999</th>\n",
              "      <td>-124.35</td>\n",
              "      <td>40.54</td>\n",
              "      <td>52.0</td>\n",
              "      <td>1820.0</td>\n",
              "      <td>300.0</td>\n",
              "      <td>806.0</td>\n",
              "      <td>270.0</td>\n",
              "      <td>3.0147</td>\n",
              "      <td>94600.0</td>\n",
              "    </tr>\n",
              "  </tbody>\n",
              "</table>\n",
              "<p>17000 rows × 9 columns</p>\n",
              "</div>"
            ],
            "text/plain": [
              "       longitude  latitude  ...  median_income  median_house_value\n",
              "0        -114.31     34.19  ...         1.4936             66900.0\n",
              "1        -114.47     34.40  ...         1.8200             80100.0\n",
              "2        -114.56     33.69  ...         1.6509             85700.0\n",
              "3        -114.57     33.64  ...         3.1917             73400.0\n",
              "4        -114.57     33.57  ...         1.9250             65500.0\n",
              "...          ...       ...  ...            ...                 ...\n",
              "16995    -124.26     40.58  ...         2.3571            111400.0\n",
              "16996    -124.27     40.69  ...         2.5179             79000.0\n",
              "16997    -124.30     41.84  ...         3.0313            103600.0\n",
              "16998    -124.30     41.80  ...         1.9797             85800.0\n",
              "16999    -124.35     40.54  ...         3.0147             94600.0\n",
              "\n",
              "[17000 rows x 9 columns]"
            ]
          },
          "metadata": {},
          "execution_count": 6
        }
      ]
    },
    {
      "cell_type": "markdown",
      "source": [
        "# Correlation between variables"
      ],
      "metadata": {
        "id": "Lov0FpaREHQn"
      }
    },
    {
      "cell_type": "code",
      "metadata": {
        "colab": {
          "base_uri": "https://localhost:8080/"
        },
        "id": "L4MX_m_ybyhB",
        "outputId": "4e548278-b725-4122-9de9-8bd408bc592a"
      },
      "source": [
        "df.corr()['total_bedrooms']"
      ],
      "execution_count": null,
      "outputs": [
        {
          "output_type": "execute_result",
          "data": {
            "text/plain": [
              "longitude             0.071802\n",
              "latitude             -0.069373\n",
              "housing_median_age   -0.320434\n",
              "total_rooms           0.928403\n",
              "total_bedrooms        1.000000\n",
              "population            0.881169\n",
              "households            0.980920\n",
              "median_income        -0.013495\n",
              "median_house_value    0.045783\n",
              "Name: total_bedrooms, dtype: float64"
            ]
          },
          "metadata": {},
          "execution_count": 7
        }
      ]
    },
    {
      "cell_type": "code",
      "metadata": {
        "colab": {
          "base_uri": "https://localhost:8080/",
          "height": 422
        },
        "id": "zBiN2lidb3V8",
        "outputId": "fb6b8895-31c1-423a-da04-47fa03df7b67"
      },
      "source": [
        "bedrooms = df['total_bedrooms']\n",
        "df = df.drop(['total_bedrooms', 'longitude', 'latitude', 'housing_median_age', 'median_income', 'median_house_value'], axis=1)\n",
        "df['bedrooms'] = bedrooms\n",
        "df"
      ],
      "execution_count": null,
      "outputs": [
        {
          "output_type": "execute_result",
          "data": {
            "text/html": [
              "<div>\n",
              "<style scoped>\n",
              "    .dataframe tbody tr th:only-of-type {\n",
              "        vertical-align: middle;\n",
              "    }\n",
              "\n",
              "    .dataframe tbody tr th {\n",
              "        vertical-align: top;\n",
              "    }\n",
              "\n",
              "    .dataframe thead th {\n",
              "        text-align: right;\n",
              "    }\n",
              "</style>\n",
              "<table border=\"1\" class=\"dataframe\">\n",
              "  <thead>\n",
              "    <tr style=\"text-align: right;\">\n",
              "      <th></th>\n",
              "      <th>total_rooms</th>\n",
              "      <th>population</th>\n",
              "      <th>households</th>\n",
              "      <th>bedrooms</th>\n",
              "    </tr>\n",
              "  </thead>\n",
              "  <tbody>\n",
              "    <tr>\n",
              "      <th>0</th>\n",
              "      <td>5612.0</td>\n",
              "      <td>1015.0</td>\n",
              "      <td>472.0</td>\n",
              "      <td>1283.0</td>\n",
              "    </tr>\n",
              "    <tr>\n",
              "      <th>1</th>\n",
              "      <td>7650.0</td>\n",
              "      <td>1129.0</td>\n",
              "      <td>463.0</td>\n",
              "      <td>1901.0</td>\n",
              "    </tr>\n",
              "    <tr>\n",
              "      <th>2</th>\n",
              "      <td>720.0</td>\n",
              "      <td>333.0</td>\n",
              "      <td>117.0</td>\n",
              "      <td>174.0</td>\n",
              "    </tr>\n",
              "    <tr>\n",
              "      <th>3</th>\n",
              "      <td>1501.0</td>\n",
              "      <td>515.0</td>\n",
              "      <td>226.0</td>\n",
              "      <td>337.0</td>\n",
              "    </tr>\n",
              "    <tr>\n",
              "      <th>4</th>\n",
              "      <td>1454.0</td>\n",
              "      <td>624.0</td>\n",
              "      <td>262.0</td>\n",
              "      <td>326.0</td>\n",
              "    </tr>\n",
              "    <tr>\n",
              "      <th>...</th>\n",
              "      <td>...</td>\n",
              "      <td>...</td>\n",
              "      <td>...</td>\n",
              "      <td>...</td>\n",
              "    </tr>\n",
              "    <tr>\n",
              "      <th>16995</th>\n",
              "      <td>2217.0</td>\n",
              "      <td>907.0</td>\n",
              "      <td>369.0</td>\n",
              "      <td>394.0</td>\n",
              "    </tr>\n",
              "    <tr>\n",
              "      <th>16996</th>\n",
              "      <td>2349.0</td>\n",
              "      <td>1194.0</td>\n",
              "      <td>465.0</td>\n",
              "      <td>528.0</td>\n",
              "    </tr>\n",
              "    <tr>\n",
              "      <th>16997</th>\n",
              "      <td>2677.0</td>\n",
              "      <td>1244.0</td>\n",
              "      <td>456.0</td>\n",
              "      <td>531.0</td>\n",
              "    </tr>\n",
              "    <tr>\n",
              "      <th>16998</th>\n",
              "      <td>2672.0</td>\n",
              "      <td>1298.0</td>\n",
              "      <td>478.0</td>\n",
              "      <td>552.0</td>\n",
              "    </tr>\n",
              "    <tr>\n",
              "      <th>16999</th>\n",
              "      <td>1820.0</td>\n",
              "      <td>806.0</td>\n",
              "      <td>270.0</td>\n",
              "      <td>300.0</td>\n",
              "    </tr>\n",
              "  </tbody>\n",
              "</table>\n",
              "<p>17000 rows × 4 columns</p>\n",
              "</div>"
            ],
            "text/plain": [
              "       total_rooms  population  households  bedrooms\n",
              "0           5612.0      1015.0       472.0    1283.0\n",
              "1           7650.0      1129.0       463.0    1901.0\n",
              "2            720.0       333.0       117.0     174.0\n",
              "3           1501.0       515.0       226.0     337.0\n",
              "4           1454.0       624.0       262.0     326.0\n",
              "...            ...         ...         ...       ...\n",
              "16995       2217.0       907.0       369.0     394.0\n",
              "16996       2349.0      1194.0       465.0     528.0\n",
              "16997       2677.0      1244.0       456.0     531.0\n",
              "16998       2672.0      1298.0       478.0     552.0\n",
              "16999       1820.0       806.0       270.0     300.0\n",
              "\n",
              "[17000 rows x 4 columns]"
            ]
          },
          "metadata": {},
          "execution_count": 8
        }
      ]
    },
    {
      "cell_type": "markdown",
      "source": [
        "# Dropping the variables which has the strong correlation here "
      ],
      "metadata": {
        "id": "E5jL-ZByE68q"
      }
    },
    {
      "cell_type": "code",
      "metadata": {
        "colab": {
          "base_uri": "https://localhost:8080/",
          "height": 279
        },
        "id": "MsWJ-1vfcyq_",
        "outputId": "7b90ccfc-d8fb-4fc7-854b-0eda37306f94"
      },
      "source": [
        "import matplotlib.pyplot as plt\n",
        " "
      ],
      "execution_count": null,
      "outputs": [
        {
          "output_type": "display_data",
          "data": {
            "image/png": "[encoded data removed]",
            "text/plain": [
              "<Figure size 432x288 with 1 Axes>"
            ]
          },
          "metadata": {
            "needs_background": "light"
          }
        }
      ]
    },
    {
      "cell_type": "code",
      "metadata": {
        "colab": {
          "base_uri": "https://localhost:8080/",
          "height": 279
        },
        "id": "y06AqVomc5He",
        "outputId": "dea0266a-f184-46be-8510-8b39f80cf1a4"
      },
      "source": [
        "plt.scatter(df['population'], df['bedrooms'])\n",
        "plt.xlabel('Population')\n",
        "plt.ylabel('Total Bedrooms')\n",
        "plt.show()"
      ],
      "execution_count": null,
      "outputs": [
        {
          "output_type": "display_data",
          "data": {
            "image/png": "[encoded data removed]",
            "text/plain": [
              "<Figure size 432x288 with 1 Axes>"
            ]
          },
          "metadata": {
            "needs_background": "light"
          }
        }
      ]
    },
    {
      "cell_type": "code",
      "metadata": {
        "colab": {
          "base_uri": "https://localhost:8080/",
          "height": 279
        },
        "id": "wYEaENJPdD7-",
        "outputId": "ac517e4e-89a9-416c-987f-7a801ea1621c"
      },
      "source": [
        "plt.scatter(df['households'], df['bedrooms'])\n",
        "plt.xlabel('Households')\n",
        "plt.ylabel('Total Bedrooms')\n",
        "plt.show()"
      ],
      "execution_count": null,
      "outputs": [
        {
          "output_type": "display_data",
          "data": {
            "image/png": "[encoded data removed]",
            "text/plain": [
              "<Figure size 432x288 with 1 Axes>"
            ]
          },
          "metadata": {
            "needs_background": "light"
          }
        }
      ]
    },
    {
      "cell_type": "markdown",
      "source": [
        "# Builting the Linear Model"
      ],
      "metadata": {
        "id": "O_XkPen7FvN_"
      }
    },
    {
      "cell_type": "code",
      "metadata": {
        "colab": {
          "base_uri": "https://localhost:8080/"
        },
        "id": "0CmWhF83dMxl",
        "outputId": "c66aa712-06e0-4150-a9a4-6ccae132bbb5"
      },
      "source": [
        "df_np = df.to_numpy()\n",
        "df_np.shape"
      ],
      "execution_count": null,
      "outputs": [
        {
          "output_type": "execute_result",
          "data": {
            "text/plain": [
              "(17000, 4)"
            ]
          },
          "metadata": {},
          "execution_count": 12
        }
      ]
    },
    {
      "cell_type": "code",
      "metadata": {
        "colab": {
          "base_uri": "https://localhost:8080/"
        },
        "id": "VVLOdvENdVqS",
        "outputId": "61da60c6-75ba-497d-bb89-33fc95cdd562"
      },
      "source": [
        "X_train, y_train = df_np[:, :3], df_np[:, -1]\n",
        "X_train.shape, y_train.shape"
      ],
      "execution_count": null,
      "outputs": [
        {
          "output_type": "execute_result",
          "data": {
            "text/plain": [
              "((17000, 3), (17000,))"
            ]
          },
          "metadata": {},
          "execution_count": 13
        }
      ]
    },
    {
      "cell_type": "code",
      "metadata": {
        "colab": {
          "base_uri": "https://localhost:8080/"
        },
        "id": "NX8JtlcGdiZH",
        "outputId": "c82baf5c-5c79-4dfe-a142-386fa6e554f3"
      },
      "source": [
        "X_train"
      ],
      "execution_count": null,
      "outputs": [
        {
          "output_type": "execute_result",
          "data": {
            "text/plain": [
              "array([[5612., 1015.,  472.],\n",
              "       [7650., 1129.,  463.],\n",
              "       [ 720.,  333.,  117.],\n",
              "       ...,\n",
              "       [2677., 1244.,  456.],\n",
              "       [2672., 1298.,  478.],\n",
              "       [1820.,  806.,  270.]])"
            ]
          },
          "metadata": {},
          "execution_count": 14
        }
      ]
    },
    {
      "cell_type": "code",
      "metadata": {
        "colab": {
          "base_uri": "https://localhost:8080/"
        },
        "id": "8x71ZVAgdmSZ",
        "outputId": "0b2c0d8e-df4e-4371-b70a-5d903cc8055b"
      },
      "source": [
        "from sklearn.linear_model import LinearRegression\n",
        "\n",
        "sklearn_model = LinearRegression().fit(X_train, y_train)\n",
        "sklearn_y_predictions = sklearn_model.predict(X_train)\n",
        "sklearn_y_predictions"
      ],
      "execution_count": null,
      "outputs": [
        {
          "output_type": "execute_result",
          "data": {
            "text/plain": [
              "array([631.82986004, 693.11956219, 130.849378  , ..., 502.56126019,\n",
              "       522.07260277, 304.4499167 ])"
            ]
          },
          "metadata": {},
          "execution_count": 16
        }
      ]
    },
    {
      "cell_type": "code",
      "metadata": {
        "colab": {
          "base_uri": "https://localhost:8080/"
        },
        "id": "SvpTbeNSeKrn",
        "outputId": "e77fd29e-7e68-4ec7-9138-f292076179d5"
      },
      "source": [
        "from sklearn.metrics import mean_absolute_error, mean_squared_error\n",
        "\n",
        "mean_absolute_error(sklearn_y_predictions, y_train), mean_squared_error(sklearn_y_predictions, y_train)"
      ],
      "execution_count": null,
      "outputs": [
        {
          "output_type": "execute_result",
          "data": {
            "text/plain": [
              "(39.672217650706656, 5650.631822167879)"
            ]
          },
          "metadata": {},
          "execution_count": 17
        }
      ]
    },
    {
      "cell_type": "code",
      "metadata": {
        "colab": {
          "base_uri": "https://localhost:8080/",
          "height": 422
        },
        "id": "xN00EKB1ejHv",
        "outputId": "27a7278a-9a9d-4ffb-8e7b-77cf165a7f8b"
      },
      "source": [
        "predictions_df = pd.DataFrame({'Population': df['population'],\n",
        "                               'Households': df['households'],\n",
        "                               'Total Rooms': df['total_rooms'],\n",
        "                               'Bedrooms': df['bedrooms'],\n",
        "                               'Sklearn Bedroom Predictions':sklearn_y_predictions})\n",
        "predictions_df"
      ],
      "execution_count": null,
      "outputs": [
        {
          "output_type": "execute_result",
          "data": {
            "text/html": [
              "<div>\n",
              "<style scoped>\n",
              "    .dataframe tbody tr th:only-of-type {\n",
              "        vertical-align: middle;\n",
              "    }\n",
              "\n",
              "    .dataframe tbody tr th {\n",
              "        vertical-align: top;\n",
              "    }\n",
              "\n",
              "    .dataframe thead th {\n",
              "        text-align: right;\n",
              "    }\n",
              "</style>\n",
              "<table border=\"1\" class=\"dataframe\">\n",
              "  <thead>\n",
              "    <tr style=\"text-align: right;\">\n",
              "      <th></th>\n",
              "      <th>Population</th>\n",
              "      <th>Households</th>\n",
              "      <th>Total Rooms</th>\n",
              "      <th>Bedrooms</th>\n",
              "      <th>Sklearn Bedroom Predictions</th>\n",
              "    </tr>\n",
              "  </thead>\n",
              "  <tbody>\n",
              "    <tr>\n",
              "      <th>0</th>\n",
              "      <td>1015.0</td>\n",
              "      <td>472.0</td>\n",
              "      <td>5612.0</td>\n",
              "      <td>1283.0</td>\n",
              "      <td>631.829860</td>\n",
              "    </tr>\n",
              "    <tr>\n",
              "      <th>1</th>\n",
              "      <td>1129.0</td>\n",
              "      <td>463.0</td>\n",
              "      <td>7650.0</td>\n",
              "      <td>1901.0</td>\n",
              "      <td>693.119562</td>\n",
              "    </tr>\n",
              "    <tr>\n",
              "      <th>2</th>\n",
              "      <td>333.0</td>\n",
              "      <td>117.0</td>\n",
              "      <td>720.0</td>\n",
              "      <td>174.0</td>\n",
              "      <td>130.849378</td>\n",
              "    </tr>\n",
              "    <tr>\n",
              "      <th>3</th>\n",
              "      <td>515.0</td>\n",
              "      <td>226.0</td>\n",
              "      <td>1501.0</td>\n",
              "      <td>337.0</td>\n",
              "      <td>259.462982</td>\n",
              "    </tr>\n",
              "    <tr>\n",
              "      <th>4</th>\n",
              "      <td>624.0</td>\n",
              "      <td>262.0</td>\n",
              "      <td>1454.0</td>\n",
              "      <td>326.0</td>\n",
              "      <td>289.315311</td>\n",
              "    </tr>\n",
              "    <tr>\n",
              "      <th>...</th>\n",
              "      <td>...</td>\n",
              "      <td>...</td>\n",
              "      <td>...</td>\n",
              "      <td>...</td>\n",
              "      <td>...</td>\n",
              "    </tr>\n",
              "    <tr>\n",
              "      <th>16995</th>\n",
              "      <td>907.0</td>\n",
              "      <td>369.0</td>\n",
              "      <td>2217.0</td>\n",
              "      <td>394.0</td>\n",
              "      <td>412.047168</td>\n",
              "    </tr>\n",
              "    <tr>\n",
              "      <th>16996</th>\n",
              "      <td>1194.0</td>\n",
              "      <td>465.0</td>\n",
              "      <td>2349.0</td>\n",
              "      <td>528.0</td>\n",
              "      <td>501.086730</td>\n",
              "    </tr>\n",
              "    <tr>\n",
              "      <th>16997</th>\n",
              "      <td>1244.0</td>\n",
              "      <td>456.0</td>\n",
              "      <td>2677.0</td>\n",
              "      <td>531.0</td>\n",
              "      <td>502.561260</td>\n",
              "    </tr>\n",
              "    <tr>\n",
              "      <th>16998</th>\n",
              "      <td>1298.0</td>\n",
              "      <td>478.0</td>\n",
              "      <td>2672.0</td>\n",
              "      <td>552.0</td>\n",
              "      <td>522.072603</td>\n",
              "    </tr>\n",
              "    <tr>\n",
              "      <th>16999</th>\n",
              "      <td>806.0</td>\n",
              "      <td>270.0</td>\n",
              "      <td>1820.0</td>\n",
              "      <td>300.0</td>\n",
              "      <td>304.449917</td>\n",
              "    </tr>\n",
              "  </tbody>\n",
              "</table>\n",
              "<p>17000 rows × 5 columns</p>\n",
              "</div>"
            ],
            "text/plain": [
              "       Population  Households  ...  Bedrooms  Sklearn Bedroom Predictions\n",
              "0          1015.0       472.0  ...    1283.0                   631.829860\n",
              "1          1129.0       463.0  ...    1901.0                   693.119562\n",
              "2           333.0       117.0  ...     174.0                   130.849378\n",
              "3           515.0       226.0  ...     337.0                   259.462982\n",
              "4           624.0       262.0  ...     326.0                   289.315311\n",
              "...           ...         ...  ...       ...                          ...\n",
              "16995       907.0       369.0  ...     394.0                   412.047168\n",
              "16996      1194.0       465.0  ...     528.0                   501.086730\n",
              "16997      1244.0       456.0  ...     531.0                   502.561260\n",
              "16998      1298.0       478.0  ...     552.0                   522.072603\n",
              "16999       806.0       270.0  ...     300.0                   304.449917\n",
              "\n",
              "[17000 rows x 5 columns]"
            ]
          },
          "metadata": {},
          "execution_count": 18
        }
      ]
    },
    {
      "cell_type": "markdown",
      "source": [
        "#  Assuming total_bedrooms[i] = alpha + (beta_1 * population[i]) + (beta_2 * households[i]) + (beta_3 * total_rooms[i]) + error\n",
        "# Generally: y[i] = alpha + (beta_1 * x_1[i]) + (beta_2 * x_2[i]) + (beta_3 * x_3[i]) + error\n",
        "# Model:     y_hat[i] = alpha_hat + (beta_1_hat * x_1[i]) + (beta_2_hat * x_2[i]) + (beta_3_hat * x_3[i])"
      ],
      "metadata": {
        "id": "a5GWw4V0HWPa"
      }
    },
    {
      "cell_type": "code",
      "metadata": {
        "id": "nTs-H8gXe_sh"
      },
      "source": [
        "def get_predictions(model, X):\n",
        "  '''\n",
        "  Obtain the predictions for the given model and inputs.\n",
        "\n",
        "  model: np.array of Floats with shape (p,) of parameters\n",
        "  X: np.array of Floats with shape (n, p-1) of inputs\n",
        "  \n",
        "  Returns: np.array of Floats with shape (n,).\n",
        "  '''\n",
        "\n",
        "  (n, p_minus_one) = X.shape\n",
        "  p = p_minus_one + 1\n",
        "\n",
        "  new_X = np.ones(shape=(n, p))\n",
        "  new_X[:, 1:] = X\n",
        "\n",
        "  return np.dot(new_X, model)"
      ],
      "execution_count": null,
      "outputs": []
    },
    {
      "cell_type": "code",
      "metadata": {
        "colab": {
          "base_uri": "https://localhost:8080/"
        },
        "id": "WHucfW4ejKgl",
        "outputId": "fa631ba0-ec0f-430f-e638-35050d50da76"
      },
      "source": [
        "test_model = np.array([1, 1/4, 1/3, 1.2])\n",
        "get_predictions(test_model, X_train).shape"
      ],
      "execution_count": null,
      "outputs": [
        {
          "output_type": "execute_result",
          "data": {
            "text/plain": [
              "(17000,)"
            ]
          },
          "metadata": {},
          "execution_count": 30
        }
      ]
    },
    {
      "cell_type": "code",
      "metadata": {
        "colab": {
          "base_uri": "https://localhost:8080/",
          "height": 422
        },
        "id": "B1q0YpUijUgN",
        "outputId": "eca9edf3-e82e-41a9-c1aa-a2189aaf2f9d"
      },
      "source": [
        "predictions_df['Test Predictions'] = get_predictions(test_model, X_train)\n",
        "predictions_df"
      ],
      "execution_count": null,
      "outputs": [
        {
          "output_type": "execute_result",
          "data": {
            "text/html": [
              "<div>\n",
              "<style scoped>\n",
              "    .dataframe tbody tr th:only-of-type {\n",
              "        vertical-align: middle;\n",
              "    }\n",
              "\n",
              "    .dataframe tbody tr th {\n",
              "        vertical-align: top;\n",
              "    }\n",
              "\n",
              "    .dataframe thead th {\n",
              "        text-align: right;\n",
              "    }\n",
              "</style>\n",
              "<table border=\"1\" class=\"dataframe\">\n",
              "  <thead>\n",
              "    <tr style=\"text-align: right;\">\n",
              "      <th></th>\n",
              "      <th>Population</th>\n",
              "      <th>Households</th>\n",
              "      <th>Total Rooms</th>\n",
              "      <th>Bedrooms</th>\n",
              "      <th>Sklearn Bedroom Predictions</th>\n",
              "      <th>Test Predictions</th>\n",
              "    </tr>\n",
              "  </thead>\n",
              "  <tbody>\n",
              "    <tr>\n",
              "      <th>0</th>\n",
              "      <td>1015.0</td>\n",
              "      <td>472.0</td>\n",
              "      <td>5612.0</td>\n",
              "      <td>1283.0</td>\n",
              "      <td>631.829860</td>\n",
              "      <td>2308.733333</td>\n",
              "    </tr>\n",
              "    <tr>\n",
              "      <th>1</th>\n",
              "      <td>1129.0</td>\n",
              "      <td>463.0</td>\n",
              "      <td>7650.0</td>\n",
              "      <td>1901.0</td>\n",
              "      <td>693.119562</td>\n",
              "      <td>2845.433333</td>\n",
              "    </tr>\n",
              "    <tr>\n",
              "      <th>2</th>\n",
              "      <td>333.0</td>\n",
              "      <td>117.0</td>\n",
              "      <td>720.0</td>\n",
              "      <td>174.0</td>\n",
              "      <td>130.849378</td>\n",
              "      <td>432.400000</td>\n",
              "    </tr>\n",
              "    <tr>\n",
              "      <th>3</th>\n",
              "      <td>515.0</td>\n",
              "      <td>226.0</td>\n",
              "      <td>1501.0</td>\n",
              "      <td>337.0</td>\n",
              "      <td>259.462982</td>\n",
              "      <td>819.116667</td>\n",
              "    </tr>\n",
              "    <tr>\n",
              "      <th>4</th>\n",
              "      <td>624.0</td>\n",
              "      <td>262.0</td>\n",
              "      <td>1454.0</td>\n",
              "      <td>326.0</td>\n",
              "      <td>289.315311</td>\n",
              "      <td>886.900000</td>\n",
              "    </tr>\n",
              "    <tr>\n",
              "      <th>...</th>\n",
              "      <td>...</td>\n",
              "      <td>...</td>\n",
              "      <td>...</td>\n",
              "      <td>...</td>\n",
              "      <td>...</td>\n",
              "      <td>...</td>\n",
              "    </tr>\n",
              "    <tr>\n",
              "      <th>16995</th>\n",
              "      <td>907.0</td>\n",
              "      <td>369.0</td>\n",
              "      <td>2217.0</td>\n",
              "      <td>394.0</td>\n",
              "      <td>412.047168</td>\n",
              "      <td>1300.383333</td>\n",
              "    </tr>\n",
              "    <tr>\n",
              "      <th>16996</th>\n",
              "      <td>1194.0</td>\n",
              "      <td>465.0</td>\n",
              "      <td>2349.0</td>\n",
              "      <td>528.0</td>\n",
              "      <td>501.086730</td>\n",
              "      <td>1544.250000</td>\n",
              "    </tr>\n",
              "    <tr>\n",
              "      <th>16997</th>\n",
              "      <td>1244.0</td>\n",
              "      <td>456.0</td>\n",
              "      <td>2677.0</td>\n",
              "      <td>531.0</td>\n",
              "      <td>502.561260</td>\n",
              "      <td>1632.116667</td>\n",
              "    </tr>\n",
              "    <tr>\n",
              "      <th>16998</th>\n",
              "      <td>1298.0</td>\n",
              "      <td>478.0</td>\n",
              "      <td>2672.0</td>\n",
              "      <td>552.0</td>\n",
              "      <td>522.072603</td>\n",
              "      <td>1675.266667</td>\n",
              "    </tr>\n",
              "    <tr>\n",
              "      <th>16999</th>\n",
              "      <td>806.0</td>\n",
              "      <td>270.0</td>\n",
              "      <td>1820.0</td>\n",
              "      <td>300.0</td>\n",
              "      <td>304.449917</td>\n",
              "      <td>1048.666667</td>\n",
              "    </tr>\n",
              "  </tbody>\n",
              "</table>\n",
              "<p>17000 rows × 6 columns</p>\n",
              "</div>"
            ],
            "text/plain": [
              "       Population  Households  ...  Sklearn Bedroom Predictions  Test Predictions\n",
              "0          1015.0       472.0  ...                   631.829860       2308.733333\n",
              "1          1129.0       463.0  ...                   693.119562       2845.433333\n",
              "2           333.0       117.0  ...                   130.849378        432.400000\n",
              "3           515.0       226.0  ...                   259.462982        819.116667\n",
              "4           624.0       262.0  ...                   289.315311        886.900000\n",
              "...           ...         ...  ...                          ...               ...\n",
              "16995       907.0       369.0  ...                   412.047168       1300.383333\n",
              "16996      1194.0       465.0  ...                   501.086730       1544.250000\n",
              "16997      1244.0       456.0  ...                   502.561260       1632.116667\n",
              "16998      1298.0       478.0  ...                   522.072603       1675.266667\n",
              "16999       806.0       270.0  ...                   304.449917       1048.666667\n",
              "\n",
              "[17000 rows x 6 columns]"
            ]
          },
          "metadata": {},
          "execution_count": 31
        }
      ]
    },
    {
      "cell_type": "code",
      "metadata": {
        "colab": {
          "base_uri": "https://localhost:8080/"
        },
        "id": "hxI2cMGgjdlG",
        "outputId": "2b07b4a6-0926-49bd-da09-aad62bc64bb4"
      },
      "source": [
        "mean_absolute_error(predictions_df['Test Predictions'], y_train)"
      ],
      "execution_count": null,
      "outputs": [
        {
          "output_type": "execute_result",
          "data": {
            "text/plain": [
              "1861.4123588235295"
            ]
          },
          "metadata": {},
          "execution_count": 29
        }
      ]
    },
    {
      "cell_type": "code",
      "metadata": {
        "id": "Lr8bejo-jrqr"
      },
      "source": [
        "from numpy.linalg import inv\n",
        "\n",
        "def get_best_model(X, y):\n",
        "  '''\n",
        "  Returns the model with the parameters that minimize the MSE.\n",
        "\n",
        "  X: np.array of Floats with shape (n, p-1) of inputs\n",
        "  y: np.array of Floats with shape (n,) of observed outputs\n",
        "\n",
        "  Returns: np.array of shape (p,) representing the model.\n",
        "  '''\n",
        "\n",
        "  (n, p_minus_one) = X.shape\n",
        "  p = p_minus_one + 1\n",
        "\n",
        "  new_X = np.ones(shape=(n, p))\n",
        "  new_X[:, 1:] = X\n",
        "\n",
        "  return np.dot(np.dot(inv(np.dot(new_X.T, new_X)), new_X.T), y)"
      ],
      "execution_count": null,
      "outputs": []
    },
    {
      "cell_type": "code",
      "metadata": {
        "colab": {
          "base_uri": "https://localhost:8080/",
          "height": 422
        },
        "id": "O1ZxgnfmkbyU",
        "outputId": "9cc741bc-66db-4eee-fba9-fd439fd27c75"
      },
      "source": [
        "best_model = get_best_model(X_train, y_train)\n",
        "predictions_df['Best Predictions'] = get_predictions(best_model, X_train)\n",
        "predictions_df"
      ],
      "execution_count": null,
      "outputs": [
        {
          "output_type": "execute_result",
          "data": {
            "text/html": [
              "<div>\n",
              "<style scoped>\n",
              "    .dataframe tbody tr th:only-of-type {\n",
              "        vertical-align: middle;\n",
              "    }\n",
              "\n",
              "    .dataframe tbody tr th {\n",
              "        vertical-align: top;\n",
              "    }\n",
              "\n",
              "    .dataframe thead th {\n",
              "        text-align: right;\n",
              "    }\n",
              "</style>\n",
              "<table border=\"1\" class=\"dataframe\">\n",
              "  <thead>\n",
              "    <tr style=\"text-align: right;\">\n",
              "      <th></th>\n",
              "      <th>Population</th>\n",
              "      <th>Households</th>\n",
              "      <th>Total Rooms</th>\n",
              "      <th>Bedrooms</th>\n",
              "      <th>Sklearn Bedroom Predictions</th>\n",
              "      <th>Test Predictions</th>\n",
              "      <th>Best Predictions</th>\n",
              "    </tr>\n",
              "  </thead>\n",
              "  <tbody>\n",
              "    <tr>\n",
              "      <th>0</th>\n",
              "      <td>1015.0</td>\n",
              "      <td>472.0</td>\n",
              "      <td>5612.0</td>\n",
              "      <td>1283.0</td>\n",
              "      <td>631.829860</td>\n",
              "      <td>2308.733333</td>\n",
              "      <td>631.829860</td>\n",
              "    </tr>\n",
              "    <tr>\n",
              "      <th>1</th>\n",
              "      <td>1129.0</td>\n",
              "      <td>463.0</td>\n",
              "      <td>7650.0</td>\n",
              "      <td>1901.0</td>\n",
              "      <td>693.119562</td>\n",
              "      <td>2845.433333</td>\n",
              "      <td>693.119562</td>\n",
              "    </tr>\n",
              "    <tr>\n",
              "      <th>2</th>\n",
              "      <td>333.0</td>\n",
              "      <td>117.0</td>\n",
              "      <td>720.0</td>\n",
              "      <td>174.0</td>\n",
              "      <td>130.849378</td>\n",
              "      <td>432.400000</td>\n",
              "      <td>130.849378</td>\n",
              "    </tr>\n",
              "    <tr>\n",
              "      <th>3</th>\n",
              "      <td>515.0</td>\n",
              "      <td>226.0</td>\n",
              "      <td>1501.0</td>\n",
              "      <td>337.0</td>\n",
              "      <td>259.462982</td>\n",
              "      <td>819.116667</td>\n",
              "      <td>259.462982</td>\n",
              "    </tr>\n",
              "    <tr>\n",
              "      <th>4</th>\n",
              "      <td>624.0</td>\n",
              "      <td>262.0</td>\n",
              "      <td>1454.0</td>\n",
              "      <td>326.0</td>\n",
              "      <td>289.315311</td>\n",
              "      <td>886.900000</td>\n",
              "      <td>289.315311</td>\n",
              "    </tr>\n",
              "    <tr>\n",
              "      <th>...</th>\n",
              "      <td>...</td>\n",
              "      <td>...</td>\n",
              "      <td>...</td>\n",
              "      <td>...</td>\n",
              "      <td>...</td>\n",
              "      <td>...</td>\n",
              "      <td>...</td>\n",
              "    </tr>\n",
              "    <tr>\n",
              "      <th>16995</th>\n",
              "      <td>907.0</td>\n",
              "      <td>369.0</td>\n",
              "      <td>2217.0</td>\n",
              "      <td>394.0</td>\n",
              "      <td>412.047168</td>\n",
              "      <td>1300.383333</td>\n",
              "      <td>412.047168</td>\n",
              "    </tr>\n",
              "    <tr>\n",
              "      <th>16996</th>\n",
              "      <td>1194.0</td>\n",
              "      <td>465.0</td>\n",
              "      <td>2349.0</td>\n",
              "      <td>528.0</td>\n",
              "      <td>501.086730</td>\n",
              "      <td>1544.250000</td>\n",
              "      <td>501.086730</td>\n",
              "    </tr>\n",
              "    <tr>\n",
              "      <th>16997</th>\n",
              "      <td>1244.0</td>\n",
              "      <td>456.0</td>\n",
              "      <td>2677.0</td>\n",
              "      <td>531.0</td>\n",
              "      <td>502.561260</td>\n",
              "      <td>1632.116667</td>\n",
              "      <td>502.561260</td>\n",
              "    </tr>\n",
              "    <tr>\n",
              "      <th>16998</th>\n",
              "      <td>1298.0</td>\n",
              "      <td>478.0</td>\n",
              "      <td>2672.0</td>\n",
              "      <td>552.0</td>\n",
              "      <td>522.072603</td>\n",
              "      <td>1675.266667</td>\n",
              "      <td>522.072603</td>\n",
              "    </tr>\n",
              "    <tr>\n",
              "      <th>16999</th>\n",
              "      <td>806.0</td>\n",
              "      <td>270.0</td>\n",
              "      <td>1820.0</td>\n",
              "      <td>300.0</td>\n",
              "      <td>304.449917</td>\n",
              "      <td>1048.666667</td>\n",
              "      <td>304.449917</td>\n",
              "    </tr>\n",
              "  </tbody>\n",
              "</table>\n",
              "<p>17000 rows × 7 columns</p>\n",
              "</div>"
            ],
            "text/plain": [
              "       Population  Households  ...  Test Predictions  Best Predictions\n",
              "0          1015.0       472.0  ...       2308.733333        631.829860\n",
              "1          1129.0       463.0  ...       2845.433333        693.119562\n",
              "2           333.0       117.0  ...        432.400000        130.849378\n",
              "3           515.0       226.0  ...        819.116667        259.462982\n",
              "4           624.0       262.0  ...        886.900000        289.315311\n",
              "...           ...         ...  ...               ...               ...\n",
              "16995       907.0       369.0  ...       1300.383333        412.047168\n",
              "16996      1194.0       465.0  ...       1544.250000        501.086730\n",
              "16997      1244.0       456.0  ...       1632.116667        502.561260\n",
              "16998      1298.0       478.0  ...       1675.266667        522.072603\n",
              "16999       806.0       270.0  ...       1048.666667        304.449917\n",
              "\n",
              "[17000 rows x 7 columns]"
            ]
          },
          "metadata": {},
          "execution_count": 33
        }
      ]
    },
    {
      "cell_type": "code",
      "metadata": {
        "id": "s69P2ImHkjpN",
        "outputId": "e0a6508f-5f8f-4fdd-a626-d6638917c50e",
        "colab": {
          "base_uri": "https://localhost:8080/"
        }
      },
      "source": [
        "mean_absolute_error(predictions_df['Best Predictions'], y_train), mean_squared_error(predictions_df['Best Predictions'], y_train)"
      ],
      "execution_count": null,
      "outputs": [
        {
          "output_type": "execute_result",
          "data": {
            "text/plain": [
              "(39.67221765070642, 5650.631822167879)"
            ]
          },
          "metadata": {},
          "execution_count": 34
        }
      ]
    }
  ]
}